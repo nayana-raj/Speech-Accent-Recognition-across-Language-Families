{
 "cells": [
  {
   "cell_type": "code",
   "execution_count": 3,
   "metadata": {},
   "outputs": [],
   "source": [
    "import python_speech_features \n",
    "import scipy.io.wavfile as wav\n",
    "import numpy, os"
   ]
  },
  {
   "cell_type": "code",
   "execution_count": 4,
   "metadata": {},
   "outputs": [],
   "source": [
    "inputDirectory= 'C:\\\\Users\\\\....'\n",
    "outputDirectory= 'C:\\\\Users\\\\....'\n",
    "if not os.path.exists(outputDirectory):\n",
    "    os.makedirs(outputDirectory)"
   ]
  },
  {
   "cell_type": "code",
   "execution_count": 5,
   "metadata": {},
   "outputs": [],
   "source": [
    "for filename in os.listdir(inputDirectory):\n",
    "    if filename.endswith('.wav'): # only get MFCCs from .wavs\n",
    "        # read in our file\n",
    "        (rate,sig) = wav.read(inputDirectory + \"/\" +filename)\n",
    "        \n",
    "        mfcc_feat = python_speech_features.base.mfcc(sig,rate, nfft=1536) #nfft – the FFT size. Default is 512 though\n",
    "\n",
    "        outputFile = outputDirectory + \"/\" + os.path.splitext(filename)[0] + \".csv\"\n",
    "        file = open(outputFile, 'w+') #write over existing file\n",
    "        numpy.savetxt(file, mfcc_feat, delimiter=\",\") #write MFCCs to .csv\n",
    "        file.close() "
   ]
  },
  {
   "cell_type": "code",
   "execution_count": 12,
   "metadata": {},
   "outputs": [],
   "source": [
    "'''\n",
    "use the following script to calculate double delta features:\n",
    "\n",
    "inputDirectory1='C:\\\\Users\\\\Nayana_2\\\\Desktop\\\\MLproject\\\\show data\\\\MFCCresults'\n",
    "outputDirectory1= 'C:\\\\Users\\\\Nayana_2\\\\Desktop\\\\MLproject\\\\show data\\\\MFCCresults\\\\doubledeltaresults'\n",
    "if not os.path.exists(outputDirectory1):\n",
    "    os.makedirs(outputDirectory1)\n",
    "    \n",
    "for filename in os.listdir(inputDirectory1):\n",
    "    mfcc_delta2 = librosa.feature.delta(mfcc_feat, order=2)\n",
    "    combined = np.hstack((mfcc_feat,mfcc_delta2))\n",
    "    outputFile1 = outputDirectory1 + \"/\" + os.path.splitext(filename)[0] + \".csv\"\n",
    "    file1 = open(outputFile1, 'w+') # make file/over write existing file\n",
    "    numpy.savetxt(file1, combined, delimiter=\",\") #save MFCCs as .csv\n",
    "    file.close() # close file\n",
    "'''"
   ]
  },
  {
   "cell_type": "code",
   "execution_count": null,
   "metadata": {},
   "outputs": [],
   "source": []
  },
  {
   "cell_type": "code",
   "execution_count": null,
   "metadata": {},
   "outputs": [],
   "source": []
  },
  {
   "cell_type": "code",
   "execution_count": null,
   "metadata": {},
   "outputs": [],
   "source": []
  },
  {
   "cell_type": "code",
   "execution_count": null,
   "metadata": {},
   "outputs": [],
   "source": []
  },
  {
   "cell_type": "code",
   "execution_count": null,
   "metadata": {},
   "outputs": [],
   "source": []
  }
 ],
 "metadata": {
  "kernelspec": {
   "display_name": "Python 3",
   "language": "python",
   "name": "python3"
  },
  "language_info": {
   "codemirror_mode": {
    "name": "ipython",
    "version": 3
   },
   "file_extension": ".py",
   "mimetype": "text/x-python",
   "name": "python",
   "nbconvert_exporter": "python",
   "pygments_lexer": "ipython3",
   "version": "3.6.5"
  }
 },
 "nbformat": 4,
 "nbformat_minor": 2
}
